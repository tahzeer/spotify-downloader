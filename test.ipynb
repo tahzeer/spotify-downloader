{
 "cells": [
  {
   "cell_type": "code",
   "execution_count": 1,
   "metadata": {},
   "outputs": [],
   "source": [
    "from unspotify import check_url, get_track_info, get_playlist_info, find_youtube, download_yt, set_metadata"
   ]
  },
  {
   "cell_type": "markdown",
   "metadata": {},
   "source": [
    "### check_url"
   ]
  },
  {
   "cell_type": "code",
   "execution_count": 2,
   "metadata": {},
   "outputs": [
    {
     "data": {
      "text/plain": [
       "'https://open.spotify.com/playlist/69SCaheHnMbfQoaMv3ANAH?si=87dd8ebd880e44fa'"
      ]
     },
     "execution_count": 2,
     "metadata": {},
     "output_type": "execute_result"
    }
   ],
   "source": [
    "check_url(\"https://open.spotify.com/playlist/69SCaheHnMbfQoaMv3ANAH?si=87dd8ebd880e44fa\")"
   ]
  },
  {
   "cell_type": "code",
   "execution_count": 3,
   "metadata": {},
   "outputs": [
    {
     "data": {
      "text/plain": [
       "'https://open.spotify.com/track/35Ki1lvKPC2sFBD3GmKdRG?si=bbca8dca026c4022'"
      ]
     },
     "execution_count": 3,
     "metadata": {},
     "output_type": "execute_result"
    }
   ],
   "source": [
    "check_url(\"https://open.spotify.com/track/35Ki1lvKPC2sFBD3GmKdRG?si=bbca8dca026c4022\")"
   ]
  },
  {
   "cell_type": "code",
   "execution_count": 4,
   "metadata": {},
   "outputs": [
    {
     "ename": "ValueError",
     "evalue": "Invalid Spotify URL",
     "output_type": "error",
     "traceback": [
      "\u001b[1;31m---------------------------------------------------------------------------\u001b[0m",
      "\u001b[1;31mValueError\u001b[0m                                Traceback (most recent call last)",
      "\u001b[1;32mc:\\Users\\tahze\\Documents\\glaive\\Code\\Projects\\unspotify-me\\test.ipynb Cell 5\u001b[0m in \u001b[0;36m<cell line: 1>\u001b[1;34m()\u001b[0m\n\u001b[1;32m----> <a href='vscode-notebook-cell:/c%3A/Users/tahze/Documents/glaive/Code/Projects/unspotify-me/test.ipynb#W4sZmlsZQ%3D%3D?line=0'>1</a>\u001b[0m check_url(\u001b[39m\"\u001b[39m\u001b[39mhttps://open.spotify.com/tracks/35Ki1lvKPC2sFBD3GmKdRG?si=bbca8dca026c4022\u001b[39m\u001b[39m\"\u001b[39m)\n",
      "File \u001b[1;32mc:\\Users\\tahze\\Documents\\glaive\\Code\\Projects\\unspotify-me\\unspotify.py:81\u001b[0m, in \u001b[0;36mcheck_url\u001b[1;34m(url)\u001b[0m\n\u001b[0;32m     78\u001b[0m \u001b[39mif\u001b[39;00m re\u001b[39m.\u001b[39msearch(\u001b[39mr\u001b[39m\u001b[39m\"\u001b[39m\u001b[39m^(https?://)?open\u001b[39m\u001b[39m\\\u001b[39m\u001b[39m.spotify\u001b[39m\u001b[39m\\\u001b[39m\u001b[39m.com/(playlist|track)/.+$\u001b[39m\u001b[39m\"\u001b[39m, url):\n\u001b[0;32m     79\u001b[0m     \u001b[39mreturn\u001b[39;00m url\n\u001b[1;32m---> 81\u001b[0m \u001b[39mraise\u001b[39;00m \u001b[39mValueError\u001b[39;00m(\u001b[39m\"\u001b[39m\u001b[39mInvalid Spotify URL\u001b[39m\u001b[39m\"\u001b[39m)\n",
      "\u001b[1;31mValueError\u001b[0m: Invalid Spotify URL"
     ]
    }
   ],
   "source": [
    "check_url(\"https://open.spotify.com/tracks/35Ki1lvKPC2sFBD3GmKdRG?si=bbca8dca026c4022\")"
   ]
  },
  {
   "cell_type": "markdown",
   "metadata": {},
   "source": [
    "### get_track_info"
   ]
  },
  {
   "cell_type": "code",
   "execution_count": 5,
   "metadata": {},
   "outputs": [
    {
     "name": "stdout",
     "output_type": "stream",
     "text": [
      "{'album': {'album_type': 'single', 'artists': [{'external_urls': {'spotify': 'https://open.spotify.com/artist/5rebfYbZVIhbRVcRKWVOAh'}, 'href': 'https://api.spotify.com/v1/artists/5rebfYbZVIhbRVcRKWVOAh', 'id': '5rebfYbZVIhbRVcRKWVOAh', 'name': 'HUNNY', 'type': 'artist', 'uri': 'spotify:artist:5rebfYbZVIhbRVcRKWVOAh'}], 'available_markets': ['AD', 'AE', 'AG', 'AL', 'AM', 'AO', 'AR', 'AT', 'AU', 'AZ', 'BA', 'BB', 'BD', 'BE', 'BF', 'BG', 'BH', 'BI', 'BJ', 'BN', 'BO', 'BR', 'BS', 'BT', 'BW', 'BY', 'BZ', 'CA', 'CD', 'CG', 'CH', 'CI', 'CL', 'CM', 'CO', 'CR', 'CV', 'CW', 'CY', 'CZ', 'DE', 'DJ', 'DK', 'DM', 'DO', 'DZ', 'EC', 'EE', 'EG', 'ES', 'ET', 'FI', 'FJ', 'FM', 'FR', 'GA', 'GB', 'GD', 'GE', 'GH', 'GM', 'GN', 'GQ', 'GR', 'GT', 'GW', 'GY', 'HK', 'HN', 'HR', 'HT', 'HU', 'ID', 'IE', 'IL', 'IN', 'IQ', 'IS', 'IT', 'JM', 'JO', 'JP', 'KE', 'KG', 'KH', 'KI', 'KM', 'KN', 'KR', 'KW', 'KZ', 'LA', 'LB', 'LC', 'LI', 'LK', 'LR', 'LS', 'LT', 'LU', 'LV', 'LY', 'MA', 'MC', 'MD', 'ME', 'MG', 'MH', 'MK', 'ML', 'MN', 'MO', 'MR', 'MT', 'MU', 'MV', 'MW', 'MX', 'MY', 'MZ', 'NA', 'NE', 'NG', 'NI', 'NL', 'NO', 'NP', 'NR', 'NZ', 'OM', 'PA', 'PE', 'PG', 'PH', 'PK', 'PL', 'PS', 'PT', 'PW', 'PY', 'QA', 'RO', 'RS', 'RW', 'SA', 'SB', 'SC', 'SE', 'SG', 'SI', 'SK', 'SL', 'SM', 'SN', 'SR', 'ST', 'SV', 'SZ', 'TD', 'TG', 'TH', 'TJ', 'TL', 'TN', 'TO', 'TR', 'TT', 'TV', 'TW', 'TZ', 'UA', 'UG', 'US', 'UY', 'UZ', 'VC', 'VE', 'VN', 'VU', 'WS', 'XK', 'ZA', 'ZM', 'ZW'], 'external_urls': {'spotify': 'https://open.spotify.com/album/3veiAKm8GGN4fhcfh58PBr'}, 'href': 'https://api.spotify.com/v1/albums/3veiAKm8GGN4fhcfh58PBr', 'id': '3veiAKm8GGN4fhcfh58PBr', 'images': [{'height': 640, 'url': 'https://i.scdn.co/image/ab67616d0000b27399727dda116d38c439bc59cf', 'width': 640}, {'height': 300, 'url': 'https://i.scdn.co/image/ab67616d00001e0299727dda116d38c439bc59cf', 'width': 300}, {'height': 64, 'url': 'https://i.scdn.co/image/ab67616d0000485199727dda116d38c439bc59cf', 'width': 64}], 'name': 'Windows I', 'release_date': '2017-05-26', 'release_date_precision': 'day', 'total_tracks': 5, 'type': 'album', 'uri': 'spotify:album:3veiAKm8GGN4fhcfh58PBr'}, 'artists': [{'external_urls': {'spotify': 'https://open.spotify.com/artist/5rebfYbZVIhbRVcRKWVOAh'}, 'href': 'https://api.spotify.com/v1/artists/5rebfYbZVIhbRVcRKWVOAh', 'id': '5rebfYbZVIhbRVcRKWVOAh', 'name': 'HUNNY', 'type': 'artist', 'uri': 'spotify:artist:5rebfYbZVIhbRVcRKWVOAh'}], 'available_markets': ['AR', 'AU', 'AT', 'BE', 'BO', 'BR', 'BG', 'CA', 'CL', 'CO', 'CR', 'CY', 'CZ', 'DK', 'DO', 'DE', 'EC', 'EE', 'SV', 'FI', 'FR', 'GR', 'GT', 'HN', 'HK', 'HU', 'IS', 'IE', 'IT', 'LV', 'LT', 'LU', 'MY', 'MT', 'MX', 'NL', 'NZ', 'NI', 'NO', 'PA', 'PY', 'PE', 'PH', 'PL', 'PT', 'SG', 'SK', 'ES', 'SE', 'CH', 'TW', 'TR', 'UY', 'US', 'GB', 'AD', 'LI', 'MC', 'ID', 'JP', 'TH', 'VN', 'RO', 'IL', 'ZA', 'SA', 'AE', 'BH', 'QA', 'OM', 'KW', 'EG', 'MA', 'DZ', 'TN', 'LB', 'JO', 'PS', 'IN', 'BY', 'KZ', 'MD', 'UA', 'AL', 'BA', 'HR', 'ME', 'MK', 'RS', 'SI', 'KR', 'BD', 'PK', 'LK', 'GH', 'KE', 'NG', 'TZ', 'UG', 'AG', 'AM', 'BS', 'BB', 'BZ', 'BT', 'BW', 'BF', 'CV', 'CW', 'DM', 'FJ', 'GM', 'GE', 'GD', 'GW', 'GY', 'HT', 'JM', 'KI', 'LS', 'LR', 'MW', 'MV', 'ML', 'MH', 'FM', 'NA', 'NR', 'NE', 'PW', 'PG', 'WS', 'SM', 'ST', 'SN', 'SC', 'SL', 'SB', 'KN', 'LC', 'VC', 'SR', 'TL', 'TO', 'TT', 'TV', 'VU', 'AZ', 'BN', 'BI', 'KH', 'CM', 'TD', 'KM', 'GQ', 'SZ', 'GA', 'GN', 'KG', 'LA', 'MO', 'MR', 'MN', 'NP', 'RW', 'TG', 'UZ', 'ZW', 'BJ', 'MG', 'MU', 'MZ', 'AO', 'CI', 'DJ', 'ZM', 'CD', 'CG', 'IQ', 'LY', 'TJ', 'VE', 'ET', 'XK'], 'disc_number': 1, 'duration_ms': 194716, 'explicit': False, 'external_ids': {'isrc': 'QM24S1701430'}, 'external_urls': {'spotify': 'https://open.spotify.com/track/35Ki1lvKPC2sFBD3GmKdRG'}, 'href': 'https://api.spotify.com/v1/tracks/35Ki1lvKPC2sFBD3GmKdRG', 'id': '35Ki1lvKPC2sFBD3GmKdRG', 'is_local': False, 'name': 'Televised', 'popularity': 66, 'preview_url': 'https://p.scdn.co/mp3-preview/8723d9c5d24b1421dc498233393a84edba72dc5d?cid=8ff8ef2f213a4cd68dbd59ff13656331', 'track_number': 5, 'type': 'track', 'uri': 'spotify:track:35Ki1lvKPC2sFBD3GmKdRG'}\n"
     ]
    },
    {
     "data": {
      "text/plain": [
       "{'artist_name': 'HUNNY',\n",
       " 'track_title': 'Televised',\n",
       " 'track_number': 5,\n",
       " 'isrc': 'QM24S1701430',\n",
       " 'album_art': 'https://i.scdn.co/image/ab67616d00001e0299727dda116d38c439bc59cf',\n",
       " 'album_name': 'Windows I',\n",
       " 'release_date': '2017-05-26',\n",
       " 'artists': ['HUNNY']}"
      ]
     },
     "execution_count": 5,
     "metadata": {},
     "output_type": "execute_result"
    }
   ],
   "source": [
    "get_track_info(\"https://open.spotify.com/track/35Ki1lvKPC2sFBD3GmKdRG?si=3982f3aed8da4419\")"
   ]
  },
  {
   "cell_type": "code",
   "execution_count": 12,
   "metadata": {},
   "outputs": [
    {
     "data": {
      "text/plain": [
       "{'artist_name': 'Phillip Phillips',\n",
       " 'track_title': 'Gone, Gone, Gone',\n",
       " 'track_number': 3,\n",
       " 'isrc': 'QMTM61200406',\n",
       " 'album_art': 'https://i.scdn.co/image/ab67616d00001e02cc9ddd32e922230fb0ab6d46',\n",
       " 'album_name': 'The World From The Side Of The Moon',\n",
       " 'release_date': '2012-01-01',\n",
       " 'artists': ['Phillip Phillips']}"
      ]
     },
     "execution_count": 12,
     "metadata": {},
     "output_type": "execute_result"
    }
   ],
   "source": [
    "get_track_info(\"https://open.spotify.com/track/2qHiyBpxyOXnRGG3t2iE96?si=aadf6e902c224401\")"
   ]
  },
  {
   "cell_type": "markdown",
   "metadata": {},
   "source": [
    "### get_playlist_info"
   ]
  },
  {
   "cell_type": "code",
   "execution_count": 13,
   "metadata": {},
   "outputs": [
    {
     "data": {
      "text/plain": [
       "[{'artist_name': 'Bread',\n",
       "  'track_title': 'Everything I Own',\n",
       "  'track_number': 4,\n",
       "  'isrc': 'USEE10000092',\n",
       "  'album_art': 'https://i.scdn.co/image/ab67616d00001e0277073761e43f273c60988eaf',\n",
       "  'album_name': \"Baby I'm-a Want You\",\n",
       "  'release_date': '1972',\n",
       "  'artists': ['Bread']},\n",
       " {'artist_name': 'Sting',\n",
       "  'track_title': 'Shape Of My Heart',\n",
       "  'track_number': 10,\n",
       "  'isrc': 'GBAAM9390010',\n",
       "  'album_art': 'https://i.scdn.co/image/ab67616d00001e02653b110d9560eb1656f4c583',\n",
       "  'album_name': \"Ten Summoner's Tales\",\n",
       "  'release_date': '1993-03-09',\n",
       "  'artists': ['Sting']},\n",
       " {'artist_name': 'ABBA',\n",
       "  'track_title': 'Dancing Queen',\n",
       "  'track_number': 2,\n",
       "  'isrc': 'SEAYD7601020',\n",
       "  'album_art': 'https://i.scdn.co/image/ab67616d00001e0270f7a1b35d5165c85b95a0e0',\n",
       "  'album_name': 'Arrival',\n",
       "  'release_date': '1976',\n",
       "  'artists': ['ABBA']},\n",
       " {'artist_name': 'The Lemonheads',\n",
       "  'track_title': 'Mrs. Robinson - Remastered',\n",
       "  'track_number': 13,\n",
       "  'isrc': 'USAT20706785',\n",
       "  'album_art': 'https://i.scdn.co/image/ab67616d00001e0292b65c451cdaa683e214ebb1',\n",
       "  'album_name': \"It's A Shame About Ray (Expanded Edition)\",\n",
       "  'release_date': '1992',\n",
       "  'artists': ['The Lemonheads']},\n",
       " {'artist_name': 'Hinder',\n",
       "  'track_title': 'Lips Of An Angel',\n",
       "  'track_number': 8,\n",
       "  'isrc': 'USUM70503185',\n",
       "  'album_art': 'https://i.scdn.co/image/ab67616d00001e02395bf2151b99ef7f8b3116b5',\n",
       "  'album_name': 'Extreme Behavior',\n",
       "  'release_date': '2005-01-01',\n",
       "  'artists': ['Hinder']},\n",
       " {'artist_name': 'The Turtles',\n",
       "  'track_title': 'Happy Together',\n",
       "  'track_number': 6,\n",
       "  'isrc': 'USA560587940',\n",
       "  'album_art': 'https://i.scdn.co/image/ab67616d00001e0272649ad8e79d1e8bdd54c929',\n",
       "  'album_name': 'Happy Together',\n",
       "  'release_date': '1967',\n",
       "  'artists': ['The Turtles']},\n",
       " {'artist_name': 'Surf Curse',\n",
       "  'track_title': \"I'm Not Making out With You\",\n",
       "  'track_number': 3,\n",
       "  'isrc': 'TCACM1691247',\n",
       "  'album_art': 'https://i.scdn.co/image/ab67616d00001e0257fcc37580f52b3e618d8d9f',\n",
       "  'album_name': 'Sad Boys',\n",
       "  'release_date': '2015-05-10',\n",
       "  'artists': ['Surf Curse']},\n",
       " {'artist_name': 'Surf Curse',\n",
       "  'track_title': 'Forever Dumb',\n",
       "  'track_number': 6,\n",
       "  'isrc': 'TCACM1691251',\n",
       "  'album_art': 'https://i.scdn.co/image/ab67616d00001e0257fcc37580f52b3e618d8d9f',\n",
       "  'album_name': 'Sad Boys',\n",
       "  'release_date': '2015-05-10',\n",
       "  'artists': ['Surf Curse']},\n",
       " {'artist_name': 'Neon Trees',\n",
       "  'track_title': 'Everybody Talks',\n",
       "  'track_number': 3,\n",
       "  'isrc': 'USUM71119189',\n",
       "  'album_art': 'https://i.scdn.co/image/ab67616d00001e024a6c0376235e5aa44e59d2c2',\n",
       "  'album_name': 'Picture Show',\n",
       "  'release_date': '2012-01-01',\n",
       "  'artists': ['Neon Trees']},\n",
       " {'artist_name': 'Neon Trees',\n",
       "  'track_title': 'Moving In The Dark',\n",
       "  'track_number': 1,\n",
       "  'isrc': 'USUM71202861',\n",
       "  'album_art': 'https://i.scdn.co/image/ab67616d00001e024a6c0376235e5aa44e59d2c2',\n",
       "  'album_name': 'Picture Show',\n",
       "  'release_date': '2012-01-01',\n",
       "  'artists': ['Neon Trees']},\n",
       " {'artist_name': 'Queen',\n",
       "  'track_title': \"Don't Stop Me Now\",\n",
       "  'track_number': 7,\n",
       "  'isrc': 'GBCEG9400014',\n",
       "  'album_art': 'https://i.scdn.co/image/ab67616d00001e021e8d8ca012d1289cafba4242',\n",
       "  'album_name': 'Discover More Classic Rock',\n",
       "  'release_date': '2020-08-10',\n",
       "  'artists': ['Queen']},\n",
       " {'artist_name': 'Tracy Chapman',\n",
       "  'track_title': 'Fast Car',\n",
       "  'track_number': 2,\n",
       "  'isrc': 'USEE10180719',\n",
       "  'album_art': 'https://i.scdn.co/image/ab67616d00001e027602becfedf6e25752cb54ff',\n",
       "  'album_name': 'Tracy Chapman',\n",
       "  'release_date': '1988-04-05',\n",
       "  'artists': ['Tracy Chapman']},\n",
       " {'artist_name': 'Daniel Powter',\n",
       "  'track_title': 'Bad Day',\n",
       "  'track_number': 3,\n",
       "  'isrc': 'USWB10401971',\n",
       "  'album_art': 'https://i.scdn.co/image/ab67616d00001e02d5d74dc15f88ec6e02c7378d',\n",
       "  'album_name': 'Daniel Powter',\n",
       "  'release_date': '2005-02-22',\n",
       "  'artists': ['Daniel Powter']},\n",
       " {'artist_name': 'Max Coveri',\n",
       "  'track_title': 'RUNNING IN THE \"90S\" - EXTENDED MIX',\n",
       "  'track_number': 5,\n",
       "  'isrc': 'ITB119700121',\n",
       "  'album_art': 'https://i.scdn.co/image/ab67616d00001e028b44d364133ccacb82c63168',\n",
       "  'album_name': 'SUPER EUROBEAT presents INITIAL D First Stage SELECTION',\n",
       "  'release_date': '2019-11-20',\n",
       "  'artists': ['Max Coveri']},\n",
       " {'artist_name': 'BØRNS',\n",
       "  'track_title': 'Electric Love',\n",
       "  'track_number': 3,\n",
       "  'isrc': 'USUM71416307',\n",
       "  'album_art': 'https://i.scdn.co/image/ab67616d00001e02cc2cf912462d8ae4ef856434',\n",
       "  'album_name': 'Dopamine',\n",
       "  'release_date': '2015-10-16',\n",
       "  'artists': ['BØRNS']},\n",
       " {'artist_name': 'Phillip Phillips',\n",
       "  'track_title': 'Gone, Gone, Gone',\n",
       "  'track_number': 3,\n",
       "  'isrc': 'QMTM61200406',\n",
       "  'album_art': 'https://i.scdn.co/image/ab67616d00001e02cc9ddd32e922230fb0ab6d46',\n",
       "  'album_name': 'The World From The Side Of The Moon',\n",
       "  'release_date': '2012-01-01',\n",
       "  'artists': ['Phillip Phillips']}]"
      ]
     },
     "execution_count": 13,
     "metadata": {},
     "output_type": "execute_result"
    }
   ],
   "source": [
    "get_playlist_info(\"https://open.spotify.com/playlist/01mJFgZkzbjPWV0R8ZxkUK?si=d6c4e0b697324616\")"
   ]
  },
  {
   "cell_type": "markdown",
   "metadata": {},
   "source": [
    "### find_youtube"
   ]
  },
  {
   "cell_type": "code",
   "execution_count": 10,
   "metadata": {},
   "outputs": [
    {
     "data": {
      "text/plain": [
       "'https://www.youtube.com/watch?v=hBp4dgE7Bho'"
      ]
     },
     "execution_count": 10,
     "metadata": {},
     "output_type": "execute_result"
    }
   ],
   "source": [
    "search_term = \"Queen Don't Stop Me Now audio\"\n",
    "find_youtube(search_term)"
   ]
  },
  {
   "cell_type": "code",
   "execution_count": 11,
   "metadata": {},
   "outputs": [
    {
     "data": {
      "text/plain": [
       "'https://www.youtube.com/watch?v=oozQ4yV__Vw'"
      ]
     },
     "execution_count": 11,
     "metadata": {},
     "output_type": "execute_result"
    }
   ],
   "source": [
    "search_term = \"Phillip Phillips Gone, Gone, Gone audio\"\n",
    "find_youtube(search_term)"
   ]
  },
  {
   "cell_type": "markdown",
   "metadata": {},
   "source": [
    "### download_yt"
   ]
  },
  {
   "cell_type": "code",
   "execution_count": 2,
   "metadata": {},
   "outputs": [
    {
     "name": "stdout",
     "output_type": "stream",
     "text": [
      "<pytube.__main__.YouTube object: videoId=hBp4dgE7Bho>\n"
     ]
    },
    {
     "name": "stderr",
     "output_type": "stream",
     "text": [
      "No match found for pattern: var for={(.*?)};\n"
     ]
    },
    {
     "data": {
      "text/plain": [
       "\"../music/tmp/Don't Stop Me Now (...Revisited).mp3\""
      ]
     },
     "execution_count": 2,
     "metadata": {},
     "output_type": "execute_result"
    }
   ],
   "source": [
    "download_yt('https://www.youtube.com/watch?v=hBp4dgE7Bho')"
   ]
  },
  {
   "cell_type": "markdown",
   "metadata": {},
   "source": [
    "### set_metadata"
   ]
  },
  {
   "cell_type": "code",
   "execution_count": 4,
   "metadata": {},
   "outputs": [
    {
     "name": "stdout",
     "output_type": "stream",
     "text": [
      "<pytube.__main__.YouTube object: videoId=oozQ4yV__Vw>\n"
     ]
    },
    {
     "name": "stderr",
     "output_type": "stream",
     "text": [
      "No match found for pattern: var for={(.*?)};\n"
     ]
    }
   ],
   "source": [
    "audio = download_yt('https://www.youtube.com/watch?v=oozQ4yV__Vw')"
   ]
  },
  {
   "cell_type": "code",
   "execution_count": 3,
   "metadata": {},
   "outputs": [],
   "source": [
    "track_info = {'artist_name': 'Phillip Phillips',\n",
    "  'track_title': 'Gone, Gone, Gone',\n",
    "  'track_number': 3,\n",
    "  'isrc': 'QMTM61200406',\n",
    "  'album_art': 'https://i.scdn.co/image/ab67616d00001e02cc9ddd32e922230fb0ab6d46',\n",
    "  'album_name': 'The World From The Side Of The Moon',\n",
    "  'release_date': '2012-01-01',\n",
    "  'artists': ['Phillip Phillips']}"
   ]
  },
  {
   "cell_type": "code",
   "execution_count": 5,
   "metadata": {},
   "outputs": [],
   "source": [
    "set_metadata(track_info, audio)"
   ]
  },
  {
   "attachments": {
    "set_metadata_result.png": {
     "image/png": "[encoded data removed]"
    }
   },
   "cell_type": "markdown",
   "metadata": {},
   "source": [
    "![set_metadata_result.png](attachment:set_metadata_result.png)"
   ]
  }
 ],
 "metadata": {
  "kernelspec": {
   "display_name": "Python 3",
   "language": "python",
   "name": "python3"
  },
  "language_info": {
   "codemirror_mode": {
    "name": "ipython",
    "version": 3
   },
   "file_extension": ".py",
   "mimetype": "text/x-python",
   "name": "python",
   "nbconvert_exporter": "python",
   "pygments_lexer": "ipython3",
   "version": "3.10.2"
  },
  "orig_nbformat": 4
 },
 "nbformat": 4,
 "nbformat_minor": 2
}
